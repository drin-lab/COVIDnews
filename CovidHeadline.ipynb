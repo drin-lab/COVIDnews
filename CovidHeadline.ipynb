{
 "cells": [
  {
   "cell_type": "code",
   "execution_count": 2,
   "metadata": {},
   "outputs": [],
   "source": [
    "import pandas as pd\n",
    "from bs4 import BeautifulSoup\n",
    "import requests\n",
    "from urllib.request import Request, urlopen"
   ]
  },
  {
   "cell_type": "markdown",
   "metadata": {},
   "source": [
    "**Web Scraping**\n",
    "* Escrevendo um programa Python que usa BeautifulSoup para acessar https://news.google.com e imprimindo todas as manchetes da página.\n",
    "* Em seguida, escrevendo uma função chamada find_headline_by_keyword que permite pesquisar palavras-chave nesses títulos e retorna para você uma lista de todos os títulos que correspondem a todas as palavras-chave fornecidas."
   ]
  },
  {
   "cell_type": "code",
   "execution_count": 12,
   "metadata": {},
   "outputs": [],
   "source": [
    "url = 'https://news.google.com/?hl=pt-BR&gl=BR&ceid=BR:pt-419'"
   ]
  },
  {
   "cell_type": "code",
   "execution_count": 13,
   "metadata": {},
   "outputs": [],
   "source": [
    "news = urlopen(url)"
   ]
  },
  {
   "cell_type": "code",
   "execution_count": 14,
   "metadata": {},
   "outputs": [],
   "source": [
    "g_news = news.read()"
   ]
  },
  {
   "cell_type": "code",
   "execution_count": 16,
   "metadata": {},
   "outputs": [],
   "source": [
    "soup = BeautifulSoup(g_news, 'html.parser')"
   ]
  },
  {
   "cell_type": "code",
   "execution_count": 19,
   "metadata": {},
   "outputs": [],
   "source": [
    "titles = soup.select('.DY5T1d')"
   ]
  },
  {
   "cell_type": "code",
   "execution_count": 20,
   "metadata": {},
   "outputs": [],
   "source": [
    "headlines = [title.text for title in titles]"
   ]
  },
  {
   "cell_type": "code",
   "execution_count": 21,
   "metadata": {},
   "outputs": [
    {
     "data": {
      "text/plain": [
       "['Atlético-MG fecha com Jorge Sampaoli; argentino estreia no clássico contra o Cruzeiro',\n",
       " 'Sampaoli no radar do Galo, Honda perto de estrear… Veja o resumo do Vaivém deste sábado - LANCE!',\n",
       " 'Investidores não devem mandar nos clubes',\n",
       " 'Jorge Sampaoli é o 13º técnico estrangeiro da história do Atlético',\n",
       " 'Jorge Sampaoli chega a Belo Horizonte para assinar com Atlético',\n",
       " '252 casos suspeitos do novo coronavírus no Brasil',\n",
       " 'Ministério da Saúde confirma segundo caso de coronavírus no Brasil',\n",
       " 'São Paulo descarta 10 casos suspeitos do novo coronavírus',\n",
       " 'Segundo caso de novo coronavírus no Brasil é confirmado em São Paulo',\n",
       " 'Casos suspeitos de novo coronavírus no estado de SP sobem para 136',\n",
       " 'Novas alíquotas da Previdência Social entram em vigor neste domingo',\n",
       " 'Desconto no contracheque muda a partir deste domingo, com novas alíquotas da Previdência',\n",
       " 'Desconto da Previdência mudou; confira o impacto em seu salário',\n",
       " 'Contribuição ao INSS muda a partir deste mês de março; saiba quanto você vai pagar',\n",
       " 'INSS: como é feito a avaliação de uma família de baixa renda?',\n",
       " 'Últimas notícias de coronavírus de 1º de março',\n",
       " 'Gleisi é agredida por fascistas ao lado da filha de 14 anos e aciona jurídico para processá-los (vídeo)',\n",
       " 'Gleisi Hoffmann vai pra cima de bolsonaristas que tentaram agredi-la em hotel no Rio',\n",
       " 'Blogs e Colunas Presidente do PT, Gleisi é hostilizada em hotel do Rio',\n",
       " 'Gleisi responde a agressão: \"Fascistas não nos intimidam\"',\n",
       " '“Amor que ela merece”, diz Bia Kicis sobre ofensas a Hoffmann',\n",
       " 'Brasil confirma seu segundo caso de coronavírus',\n",
       " 'Rio tem duas mortes registradas durante temporal na Zona Oeste',\n",
       " 'Chuvas matam dois, destroem casas e colocam Rio em alerta',\n",
       " 'Temporal deixa Rio em estágio de alerta; sirenes são acionadas',\n",
       " 'Temporal causa alagamentos e deixa mortos no Rio de Janeiro',\n",
       " 'Temporal deixa Rio em estágio de alerta e provoca uma morte',\n",
       " 'Moro miou',\n",
       " 'Solução no CE passa pelo fim da paralisação ilegal de policiais, tuíta Moro',\n",
       " 'Moro diz que paralisação de PMs do Ceará é ilegal, mas que policial não pode ser tratado como criminoso',\n",
       " 'Moro miou Elio Gaspari',\n",
       " 'Sergio Moro afirma que greve de policiais no Ceará é ilegal | SBT Brasil (29/02/20)',\n",
       " 'Sobe para 6 número de mortes em naufrágio no Amapá',\n",
       " 'Naufrágio no Amapá: Três mortos e 16 desaparecidos',\n",
       " 'Sobe para três o número de mortos em naufrágio do Navio Anna Karoline no Rio Amazonas',\n",
       " \"'Parecia cena de filme', relata sobrevivente de naufrágio no Sul do Amapá\",\n",
       " 'Sobe para 3 número de mortos em naufrágio no AP; 45 são resgatados com vida',\n",
       " 'Exército diz que não pode retirar invasores de escola ocupada durante motim da PM no Ceará',\n",
       " 'Seduc pede apoio ao Exército para garantir aulas em escola ocupada por policiais amotinados',\n",
       " 'Exército diz que não pode retirar PMs amotinados de escola no Ceará',\n",
       " 'Seduc denuncia invasão de escola por policiais e pede ajuda ao Exército',\n",
       " 'Exército afirma que não pode retirar policiais militares amotinados de escola ocupada em Fortaleza',\n",
       " 'Lacalle Pou toma posse como novo presidente do Uruguai',\n",
       " 'Bolsonaro chega a Montevidéu e cumprimenta apoiadores',\n",
       " 'Luis Lacalle Pou toma posse como presidente do Uruguai neste domingo',\n",
       " 'Uruguai volta a ter um governo de direita com a posse de Lacalle Pou',\n",
       " 'Bolsonaro vai à cerimônia de posse do presidente do Uruguai amanhã',\n",
       " 'Coronavírus: indústria chinesa tem queda recorde',\n",
       " \"Trump diz que 'não há motivo para pânico' após 1ª morte por coronavírus nos EUA\",\n",
       " 'EUA proíbe entrada de quem passou pelo Irã; Trump diz que não há motivo para pânico',\n",
       " 'EUA aumentam restrições e cancelam voos para Itália, Coreia do Sul e Irã',\n",
       " 'Morre primeira vítima do coronavírus nos EUA',\n",
       " 'Tom Steyer deixa corrida do Partido Democrata à Presidência dos EUA',\n",
       " 'As manchetes dos jornais norte-americanos',\n",
       " 'Com tsunami Sanders, socialismo deixa de ser palavrão nos EUA',\n",
       " 'Joe Biden vence primárias democratas na Carolina do Sul',\n",
       " 'Estado americano da Carolina do Sul tem eleições primárias do partido democrata neste sábado (29)',\n",
       " 'O Papa no Angelus: com o diabo não se dialoga jamais',\n",
       " 'Papa é visto pela 1º vez em 4 dias e diz que não irá a retiro por resfriado',\n",
       " 'Papa faz primeira aparição pública após cancelar agenda e diz que está resfriado',\n",
       " 'Papa Francisco - Oracão do Angelus 2020-03-01',\n",
       " 'Papa cancela audiências pelo 3º dia seguido',\n",
       " 'Cartão de crédito passa a usar cotação do dólar do dia da compra',\n",
       " 'Cotação do dólar na fatura do cartão passa a ser a do dia da compra a partir de hoje',\n",
       " 'Quem usar cartão no exterior agora pode pagar pelo dólar do dia da compra',\n",
       " 'Cartão de crédito passa a usar cotação do dólar',\n",
       " 'Começa a valer uso da taxa de câmbio do dia gasto no exterior no cartão de crédito',\n",
       " 'Posso cancelar viagem por causa do coronavírus? Veja regras',\n",
       " 'Companhias aéreas são afetadas e cancelam voos por novo coronavírus',\n",
       " 'Milão, na Itália, registra 32,5% de cancelamento de viagens em 3 dias',\n",
       " 'Covid-19: Itália vai ressarcir passageiros com voos cancelados',\n",
       " 'Covid-19. Itália vai ressarcir passageiros com voos cancelados',\n",
       " 'Soja: produtor do Rio Grande do Sul reduz custo em 15%; veja o segredo',\n",
       " 'IR 2020: entrega da declaração do Imposto de Renda começa nesta segunda',\n",
       " 'Imposto de Renda 2020: saiba quais documentos você precisa ter em mãos',\n",
       " 'Imposto de Renda 2020: Passo a passo para declarar pela internet',\n",
       " 'IR 2020: veja os comprovantes que você deve juntar para declarar',\n",
       " 'Qual valor de ganho mensal para ter que declarar Imposto Renda?',\n",
       " 'Nasa anuncia \"a maior explosão já vista no Universo\"',\n",
       " 'GDC 2020 é oficialmente adiada para metade de 2020',\n",
       " 'GDC 2020 é adiada por conta do coronavírus',\n",
       " 'Oficial: GDC 2020 é adiada devido ao coronavírus | Meu PS4',\n",
       " 'Após cancelamentos de expositores, GDC é adiada por surto de coronavírus',\n",
       " 'GDC 2020 é cancelada por causa do Covid-19',\n",
       " 'Xbox Series X: Tudo sobre o novo console da Microsoft',\n",
       " 'Sony pode estar desenvolvendo 2 modelos de PS5 para bater de frente contra Xbox Series X',\n",
       " 'Sony deve lançar dois modelos da PlayStation 5',\n",
       " 'A Sony registou uma série de logos para a PS5! Porquê?',\n",
       " 'A guerra dos consoles acabou porque Playstation deixou Xbox para trás, diz Erik Kain',\n",
       " 'Que animal é o Sonic? Veja perguntas e respostas sobre o personagem',\n",
       " 'Gabi e Victor Hugo questionam posicionamento de Guilherme',\n",
       " 'BBB20: Rafa e Gizelly alertam Gabi sobre controle de Guilherme',\n",
       " 'BBB 2020: Gabi lista regras para Guilherme após pedido de namoro',\n",
       " 'Resumo BBB20: Brothers só pensam no Paredão, e Victor Hugo se declara para Guilherme',\n",
       " 'BBB20: Gabi faz pedido a Guilherme. “Aceita namorar comigo de novo”',\n",
       " '\"Vai assustar\", diz Ivy sobre indicar brother ao paredão',\n",
       " \"Ivy sobre indicar Guilherme: 'Eu teria que conversar com a Gabi antes?'\",\n",
       " \"Marcela desabafa sobre choro na festa: 'Eu fiz um papelão'\",\n",
       " 'BBB20: Ivy planeja indicar Guilherme ao paredão e pensa em Gabi: “Teria que conversar”',\n",
       " 'Ator de O Esquadrão Suicida revela os motivos para ter aceitado o papel',\n",
       " \"Diretor do novo 'Esquadrão Suicida' anuncia fim das filmagens via Instagram\",\n",
       " '‘O Esquadrão Suicida’: James Gunn comemora o fim das filmagens; Confira a imagem!',\n",
       " 'Marvel não sabia que James Gunn estava fazendo novo Esquadrão Suicida quando decidiu recontratá-lo',\n",
       " 'Finalmente! Aguardado filme da DC termina suas filmagens; veja qual é',\n",
       " 'James Gunn responde se traria Homem de Ferro de volta',\n",
       " 'Tony Stark está vivo! Vingadores: Ultimato enganou os fãs do MCU',\n",
       " 'HQ revela segredo obscuro da família de Tony Stark',\n",
       " '‘Vingadores 5’ ganha possível data de estreia',\n",
       " 'Uau! Tony Stark volta em trailer insano de Homem de Ferro 4; confira',\n",
       " 'Adilson confirma Cruzeiro com Marcelo Moreno e três volantes para enfrentar Uberlândia',\n",
       " 'Marcelo Ramos, Sorín... relembre voltas de outros \"xodós\" em dia de reestreia de Moreno pelo Cruzeiro',\n",
       " 'Com reestreia de Moreno, Cruzeiro busca reabilitação diante do Uberlândia no Mineirão',\n",
       " 'Cruzeiro encara o Uberlândia com estreia de Moreno e buscando volta ao G-4',\n",
       " 'Sem Jhonata Robert e Roberson, Cruzeiro divulga lista de relacionados para jogo contra o Uberlândia',\n",
       " 'Campeonato Paulista - São Paulo X Ponte Preta - 1°/03/2020 - AO VIVO',\n",
       " 'Por que São Paulo e Volpi melhoraram a defesa, mas não estão satisfeitos',\n",
       " 'São Paulo x Ponte Preta - Campeonato Paulista - 01/03/2020',\n",
       " 'São Paulo conclui preparação para o confronto contra a Ponte Preta no Morumbi; veja time provável',\n",
       " \"Reinaldo elogia São Paulo de 2020: 'Você olha para o banco e dá gosto'\",\n",
       " 'Fluminense x Madureira (01/03): Placar ao vivo Carioca 2020',\n",
       " 'Fluminense x Madureira: prováveis times, desfalques, onde ver e palpites',\n",
       " 'Onde assistir a Fluminense x Madureira, pelo Campeonato Carioca?',\n",
       " 'Com time alternativo, Fluminense recebe o Madureira pela Taça Rio',\n",
       " 'Dez jogos, trinta jogadores utilizados e dilemas: O balanço de Odair no Flu',\n",
       " 'Flamengo embarca para a Colômbia com quatro desfalques para a estreia na Libertadores',\n",
       " 'Sem Bruno Henrique, Rafinha e Rodrigo Caio, Flamengo divulga lista de relacionados para estreia na Libertadores',\n",
       " 'Conversa por renovação do Mister fica para depois da estreia na Liberta',\n",
       " 'Vice do Flamengo volta a falar sobre renovação de Jesus: \"Começando a precisar de uma decisão',\n",
       " 'Com reunião para renovação marcada, Jorge Jesus ressalta que torcida do Flamengo “é a que mais marcou o seu coração”',\n",
       " 'Coronavírus: por que há mais homens que mulheres infectados',\n",
       " 'Italianos identificam mutação que provocou coronavírus',\n",
       " 'Italianos identificam mutação que provocou epidemia',\n",
       " 'Pesquisadores italianos identificam mutação genética que permitiu contágio de coronavírus em humanos',\n",
       " 'Grupo de pesquisa italiano diz ter achado mutação que gerou epidemia de coronavírus',\n",
       " 'São Paulo registra a primeira morte por sarampo em 2020',\n",
       " 'Governo antecipa campanha de vacinação contra a gripe',\n",
       " 'SP registra morte de criança por sarampo, a primeira de 2020',\n",
       " 'Dia D da vacinação contra o sarampo acontece neste sábado (29) em Teresina; veja lista de postos',\n",
       " 'São Paulo registra primeira morte por sarampo em 2020',\n",
       " 'Chegada do coronavírus desafia o sistema brasileiro de saúde',\n",
       " 'Sou motorista de Uber e 99, devo me preocupar com o Coronavírus?',\n",
       " 'O que você precisa saber para se preparar para uma pandemia de coronavírus (Covid-19)',\n",
       " 'É preciso mais gestão para conter o coronavírus',\n",
       " \"Guia do 'corona': tudo o que você precisa saber sobre o novo vírus que já chegou ao Brasil\",\n",
       " 'Reportagem sobre apoio de Bolsonaro a protestos não usou vídeo de 2015',\n",
       " 'Foto de Schwarzenegger com camiseta de Bolsonaro é montagem',\n",
       " 'O menino australiano que sofreu bullying, Quaden Bayles, tem nove anos e não é um adulto como afirmam nas redes sociais',\n",
       " 'Foto de Lula fazendo gesto de banana circula em boato com contexto falso',\n",
       " \"Após revelar mensagem de Bolsonaro, jornalista do 'Estado' é alvo de montagem com falsos diálogos no WhatsApp\"]"
      ]
     },
     "execution_count": 21,
     "metadata": {},
     "output_type": "execute_result"
    }
   ],
   "source": [
    "headlines"
   ]
  },
  {
   "cell_type": "code",
   "execution_count": 22,
   "metadata": {},
   "outputs": [],
   "source": [
    "def find_headline_by_keyword(hlines, kwds):\n",
    "\treturn [headline for headline in hlines if kwds.lower() in headline.lower()]\n"
   ]
  },
  {
   "cell_type": "code",
   "execution_count": 23,
   "metadata": {},
   "outputs": [
    {
     "data": {
      "text/plain": [
       "['252 casos suspeitos do novo coronavírus no Brasil',\n",
       " 'Ministério da Saúde confirma segundo caso de coronavírus no Brasil',\n",
       " 'São Paulo descarta 10 casos suspeitos do novo coronavírus',\n",
       " 'Segundo caso de novo coronavírus no Brasil é confirmado em São Paulo',\n",
       " 'Casos suspeitos de novo coronavírus no estado de SP sobem para 136',\n",
       " 'Últimas notícias de coronavírus de 1º de março',\n",
       " 'Brasil confirma seu segundo caso de coronavírus',\n",
       " 'Coronavírus: indústria chinesa tem queda recorde',\n",
       " \"Trump diz que 'não há motivo para pânico' após 1ª morte por coronavírus nos EUA\",\n",
       " 'Morre primeira vítima do coronavírus nos EUA',\n",
       " 'Posso cancelar viagem por causa do coronavírus? Veja regras',\n",
       " 'Companhias aéreas são afetadas e cancelam voos por novo coronavírus',\n",
       " 'GDC 2020 é adiada por conta do coronavírus',\n",
       " 'Oficial: GDC 2020 é adiada devido ao coronavírus | Meu PS4',\n",
       " 'Após cancelamentos de expositores, GDC é adiada por surto de coronavírus',\n",
       " 'Coronavírus: por que há mais homens que mulheres infectados',\n",
       " 'Italianos identificam mutação que provocou coronavírus',\n",
       " 'Pesquisadores italianos identificam mutação genética que permitiu contágio de coronavírus em humanos',\n",
       " 'Grupo de pesquisa italiano diz ter achado mutação que gerou epidemia de coronavírus',\n",
       " 'Chegada do coronavírus desafia o sistema brasileiro de saúde',\n",
       " 'Sou motorista de Uber e 99, devo me preocupar com o Coronavírus?',\n",
       " 'O que você precisa saber para se preparar para uma pandemia de coronavírus (Covid-19)',\n",
       " 'É preciso mais gestão para conter o coronavírus']"
      ]
     },
     "execution_count": 23,
     "metadata": {},
     "output_type": "execute_result"
    }
   ],
   "source": [
    "find_headline_by_keyword(headlines, \"coronavírus\")"
   ]
  },
  {
   "cell_type": "code",
   "execution_count": null,
   "metadata": {},
   "outputs": [],
   "source": []
  }
 ],
 "metadata": {
  "kernelspec": {
   "display_name": "Python 3",
   "language": "python",
   "name": "python3"
  },
  "language_info": {
   "codemirror_mode": {
    "name": "ipython",
    "version": 3
   },
   "file_extension": ".py",
   "mimetype": "text/x-python",
   "name": "python",
   "nbconvert_exporter": "python",
   "pygments_lexer": "ipython3",
   "version": "3.8.5"
  }
 },
 "nbformat": 4,
 "nbformat_minor": 2
}
